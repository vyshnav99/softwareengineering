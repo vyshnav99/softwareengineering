{
  "nbformat": 4,
  "nbformat_minor": 0,
  "metadata": {
    "colab": {
      "name": "Stock Market Analysis",
      "provenance": [],
      "collapsed_sections": [],
      "authorship_tag": "ABX9TyOg2JOrx+pUcvyqaWJ0erbP",
      "include_colab_link": true
    },
    "kernelspec": {
      "name": "python3",
      "display_name": "Python 3"
    },
    "language_info": {
      "name": "python"
    }
  },
  "cells": [
    {
      "cell_type": "markdown",
      "metadata": {
        "id": "view-in-github",
        "colab_type": "text"
      },
      "source": [
        "<a href=\"https://colab.research.google.com/github/vyshnav99/softwareengineering/blob/master/Stock_Market_Analysis.ipynb\" target=\"_parent\"><img src=\"https://colab.research.google.com/assets/colab-badge.svg\" alt=\"Open In Colab\"/></a>"
      ]
    },
    {
      "cell_type": "code",
      "metadata": {
        "id": "4ZPKdsGtsEZ3"
      },
      "source": [
        " \n",
        "# Importing the libraries\n",
        "import numpy as np\n",
        "import matplotlib.pyplot as plt\n",
        "import pandas as pd\n"
      ],
      "execution_count": 1,
      "outputs": []
    },
    {
      "cell_type": "code",
      "metadata": {
        "id": "BwGHhrTgsuwD"
      },
      "source": [
        "dataset_train = pd.read_csv('/content/Google_Stock_Price_Train.csv')\n",
        "training_set = dataset_train.iloc[:, 1:2].values"
      ],
      "execution_count": 4,
      "outputs": []
    },
    {
      "cell_type": "code",
      "metadata": {
        "id": "VpoQm-TstOom"
      },
      "source": [
        "# Feature Scaling\n",
        "from sklearn.preprocessing import MinMaxScaler\n",
        "sc = MinMaxScaler(feature_range = (0, 1))\n",
        "training_set_scaled = sc.fit_transform(training_set)\n"
      ],
      "execution_count": 5,
      "outputs": []
    },
    {
      "cell_type": "code",
      "metadata": {
        "id": "4BXTl9MwtYCe"
      },
      "source": [
        "# Creating a data structure with 60 timesteps and 1 output\n",
        "X_train = []\n",
        "y_train = []\n",
        "for i in range(60, 1258):\n",
        "    X_train.append(training_set_scaled[i-60:i, 0])\n",
        "    y_train.append(training_set_scaled[i, 0])\n",
        "X_train, y_train = np.array(X_train), np.array(y_train)\n"
      ],
      "execution_count": 6,
      "outputs": []
    },
    {
      "cell_type": "code",
      "metadata": {
        "id": "tabNLUm2teZF"
      },
      "source": [
        " \n",
        "# Reshaping\n",
        "X_train = np.reshape(X_train, (X_train.shape[0], X_train.shape[1], 1))\n"
      ],
      "execution_count": 7,
      "outputs": []
    },
    {
      "cell_type": "code",
      "metadata": {
        "id": "Ph0CiB10tkFa"
      },
      "source": [
        "# Part 2 - Building the RNN\n",
        " \n",
        "# Importing the Keras libraries and packages\n",
        "from keras.models import Sequential\n",
        "from keras.layers import Dense\n",
        "from keras.layers import LSTM\n",
        "from keras.layers import Dropout\n"
      ],
      "execution_count": 8,
      "outputs": []
    },
    {
      "cell_type": "code",
      "metadata": {
        "id": "oirTMbFYtqri"
      },
      "source": [
        " \n",
        "# Initialising the RNN\n",
        "regressor = Sequential()\n"
      ],
      "execution_count": 9,
      "outputs": []
    },
    {
      "cell_type": "code",
      "metadata": {
        "id": "gWHW8II6t1nI"
      },
      "source": [
        "# Adding the first LSTM layer and some Dropout regularisation\n",
        "regressor.add(LSTM(units = 50, return_sequences = True, input_shape = (X_train.shape[1], 1)))\n",
        "regressor.add(Dropout(0.2))\n"
      ],
      "execution_count": 10,
      "outputs": []
    },
    {
      "cell_type": "code",
      "metadata": {
        "id": "Z3x1eyjWt-7m"
      },
      "source": [
        " \n",
        "# Adding a second LSTM layer and some Dropout regularisation\n",
        "regressor.add(LSTM(units = 50, return_sequences = True))\n",
        "regressor.add(Dropout(0.2))\n"
      ],
      "execution_count": 11,
      "outputs": []
    },
    {
      "cell_type": "code",
      "metadata": {
        "id": "AQKVR3avuKGO"
      },
      "source": [
        " # Adding a third LSTM layer and some Dropout regularisation\n",
        "regressor.add(LSTM(units = 50, return_sequences = True))\n",
        "regressor.add(Dropout(0.2))\n",
        "\n"
      ],
      "execution_count": 12,
      "outputs": []
    },
    {
      "cell_type": "code",
      "metadata": {
        "id": "s7CuKB9CuTzl"
      },
      "source": [
        " \n",
        "# Adding a fourth LSTM layer and some Dropout regularisation\n",
        "regressor.add(LSTM(units = 50))\n",
        "regressor.add(Dropout(0.2))\n"
      ],
      "execution_count": 13,
      "outputs": []
    },
    {
      "cell_type": "code",
      "metadata": {
        "id": "NTi_LLuHuZJ0"
      },
      "source": [
        " \n",
        "# Adding the output layer\n",
        "regressor.add(Dense(units = 1))\n"
      ],
      "execution_count": 14,
      "outputs": []
    },
    {
      "cell_type": "code",
      "metadata": {
        "id": "nfZxxFhauf71"
      },
      "source": [
        " \n",
        "# Compiling the RNN\n",
        "regressor.compile(optimizer = 'adam', loss = 'mean_squared_error')\n"
      ],
      "execution_count": 15,
      "outputs": []
    },
    {
      "cell_type": "code",
      "metadata": {
        "colab": {
          "base_uri": "https://localhost:8080/"
        },
        "id": "gQLamtSBukJN",
        "outputId": "869c2ba8-2aca-4fee-e58b-6c752300ffa7"
      },
      "source": [
        " \n",
        "# Fitting the RNN to the Training set\n",
        "regressor.fit(X_train, y_train, epochs = 100, batch_size = 32)\n"
      ],
      "execution_count": 16,
      "outputs": [
        {
          "output_type": "stream",
          "text": [
            "Epoch 1/100\n",
            "38/38 [==============================] - 29s 130ms/step - loss: 0.0743\n",
            "Epoch 2/100\n",
            "38/38 [==============================] - 4s 113ms/step - loss: 0.0073\n",
            "Epoch 3/100\n",
            "38/38 [==============================] - 4s 113ms/step - loss: 0.0053\n",
            "Epoch 4/100\n",
            "38/38 [==============================] - 4s 113ms/step - loss: 0.0051\n",
            "Epoch 5/100\n",
            "38/38 [==============================] - 4s 115ms/step - loss: 0.0054\n",
            "Epoch 6/100\n",
            "38/38 [==============================] - 5s 119ms/step - loss: 0.0047\n",
            "Epoch 7/100\n",
            "38/38 [==============================] - 4s 118ms/step - loss: 0.0046\n",
            "Epoch 8/100\n",
            "38/38 [==============================] - 5s 118ms/step - loss: 0.0043\n",
            "Epoch 9/100\n",
            "38/38 [==============================] - 4s 116ms/step - loss: 0.0053\n",
            "Epoch 10/100\n",
            "38/38 [==============================] - 4s 117ms/step - loss: 0.0059\n",
            "Epoch 11/100\n",
            "38/38 [==============================] - 4s 113ms/step - loss: 0.0039\n",
            "Epoch 12/100\n",
            "38/38 [==============================] - 4s 113ms/step - loss: 0.0046\n",
            "Epoch 13/100\n",
            "38/38 [==============================] - 4s 113ms/step - loss: 0.0039\n",
            "Epoch 14/100\n",
            "38/38 [==============================] - 4s 114ms/step - loss: 0.0040\n",
            "Epoch 15/100\n",
            "38/38 [==============================] - 4s 116ms/step - loss: 0.0035\n",
            "Epoch 16/100\n",
            "38/38 [==============================] - 4s 116ms/step - loss: 0.0038\n",
            "Epoch 17/100\n",
            "38/38 [==============================] - 4s 114ms/step - loss: 0.0035\n",
            "Epoch 18/100\n",
            "38/38 [==============================] - 4s 113ms/step - loss: 0.0033\n",
            "Epoch 19/100\n",
            "38/38 [==============================] - 4s 115ms/step - loss: 0.0034\n",
            "Epoch 20/100\n",
            "38/38 [==============================] - 4s 114ms/step - loss: 0.0032\n",
            "Epoch 21/100\n",
            "38/38 [==============================] - 4s 115ms/step - loss: 0.0040\n",
            "Epoch 22/100\n",
            "38/38 [==============================] - 4s 116ms/step - loss: 0.0031\n",
            "Epoch 23/100\n",
            "38/38 [==============================] - 4s 115ms/step - loss: 0.0038\n",
            "Epoch 24/100\n",
            "38/38 [==============================] - 4s 115ms/step - loss: 0.0032\n",
            "Epoch 25/100\n",
            "38/38 [==============================] - 4s 114ms/step - loss: 0.0034\n",
            "Epoch 26/100\n",
            "38/38 [==============================] - 4s 114ms/step - loss: 0.0032\n",
            "Epoch 27/100\n",
            "38/38 [==============================] - 4s 115ms/step - loss: 0.0027\n",
            "Epoch 28/100\n",
            "38/38 [==============================] - 4s 113ms/step - loss: 0.0031\n",
            "Epoch 29/100\n",
            "38/38 [==============================] - 4s 112ms/step - loss: 0.0033\n",
            "Epoch 30/100\n",
            "38/38 [==============================] - 4s 113ms/step - loss: 0.0033\n",
            "Epoch 31/100\n",
            "38/38 [==============================] - 4s 115ms/step - loss: 0.0027\n",
            "Epoch 32/100\n",
            "38/38 [==============================] - 4s 113ms/step - loss: 0.0025\n",
            "Epoch 33/100\n",
            "38/38 [==============================] - 4s 113ms/step - loss: 0.0032\n",
            "Epoch 34/100\n",
            "38/38 [==============================] - 4s 114ms/step - loss: 0.0026\n",
            "Epoch 35/100\n",
            "38/38 [==============================] - 4s 115ms/step - loss: 0.0026\n",
            "Epoch 36/100\n",
            "38/38 [==============================] - 4s 114ms/step - loss: 0.0027\n",
            "Epoch 37/100\n",
            "38/38 [==============================] - 4s 112ms/step - loss: 0.0026\n",
            "Epoch 38/100\n",
            "38/38 [==============================] - 4s 112ms/step - loss: 0.0027\n",
            "Epoch 39/100\n",
            "38/38 [==============================] - 4s 113ms/step - loss: 0.0025\n",
            "Epoch 40/100\n",
            "38/38 [==============================] - 4s 115ms/step - loss: 0.0029\n",
            "Epoch 41/100\n",
            "38/38 [==============================] - 4s 115ms/step - loss: 0.0027\n",
            "Epoch 42/100\n",
            "38/38 [==============================] - 4s 115ms/step - loss: 0.0025\n",
            "Epoch 43/100\n",
            "38/38 [==============================] - 4s 115ms/step - loss: 0.0024\n",
            "Epoch 44/100\n",
            "38/38 [==============================] - 4s 111ms/step - loss: 0.0027\n",
            "Epoch 45/100\n",
            "38/38 [==============================] - 4s 115ms/step - loss: 0.0027\n",
            "Epoch 46/100\n",
            "38/38 [==============================] - 4s 113ms/step - loss: 0.0023\n",
            "Epoch 47/100\n",
            "38/38 [==============================] - 4s 112ms/step - loss: 0.0022\n",
            "Epoch 48/100\n",
            "38/38 [==============================] - 4s 111ms/step - loss: 0.0022\n",
            "Epoch 49/100\n",
            "38/38 [==============================] - 4s 113ms/step - loss: 0.0021\n",
            "Epoch 50/100\n",
            "38/38 [==============================] - 4s 112ms/step - loss: 0.0024\n",
            "Epoch 51/100\n",
            "38/38 [==============================] - 4s 111ms/step - loss: 0.0019\n",
            "Epoch 52/100\n",
            "38/38 [==============================] - 4s 111ms/step - loss: 0.0019\n",
            "Epoch 53/100\n",
            "38/38 [==============================] - 4s 112ms/step - loss: 0.0022\n",
            "Epoch 54/100\n",
            "38/38 [==============================] - 4s 112ms/step - loss: 0.0020\n",
            "Epoch 55/100\n",
            "38/38 [==============================] - 4s 112ms/step - loss: 0.0022\n",
            "Epoch 56/100\n",
            "38/38 [==============================] - 4s 113ms/step - loss: 0.0022\n",
            "Epoch 57/100\n",
            "38/38 [==============================] - 4s 112ms/step - loss: 0.0019\n",
            "Epoch 58/100\n",
            "38/38 [==============================] - 4s 112ms/step - loss: 0.0023\n",
            "Epoch 59/100\n",
            "38/38 [==============================] - 4s 114ms/step - loss: 0.0025\n",
            "Epoch 60/100\n",
            "38/38 [==============================] - 4s 111ms/step - loss: 0.0020\n",
            "Epoch 61/100\n",
            "38/38 [==============================] - 4s 114ms/step - loss: 0.0021\n",
            "Epoch 62/100\n",
            "38/38 [==============================] - 4s 114ms/step - loss: 0.0020\n",
            "Epoch 63/100\n",
            "38/38 [==============================] - 4s 113ms/step - loss: 0.0021\n",
            "Epoch 64/100\n",
            "38/38 [==============================] - 4s 116ms/step - loss: 0.0020\n",
            "Epoch 65/100\n",
            "38/38 [==============================] - 4s 114ms/step - loss: 0.0017\n",
            "Epoch 66/100\n",
            "38/38 [==============================] - 4s 114ms/step - loss: 0.0016\n",
            "Epoch 67/100\n",
            "38/38 [==============================] - 4s 118ms/step - loss: 0.0018\n",
            "Epoch 68/100\n",
            "38/38 [==============================] - 4s 117ms/step - loss: 0.0017\n",
            "Epoch 69/100\n",
            "38/38 [==============================] - 5s 120ms/step - loss: 0.0018\n",
            "Epoch 70/100\n",
            "38/38 [==============================] - 4s 118ms/step - loss: 0.0018\n",
            "Epoch 71/100\n",
            "38/38 [==============================] - 5s 119ms/step - loss: 0.0019\n",
            "Epoch 72/100\n",
            "38/38 [==============================] - 4s 117ms/step - loss: 0.0020\n",
            "Epoch 73/100\n",
            "38/38 [==============================] - 4s 116ms/step - loss: 0.0018\n",
            "Epoch 74/100\n",
            "38/38 [==============================] - 4s 115ms/step - loss: 0.0018\n",
            "Epoch 75/100\n",
            "38/38 [==============================] - 4s 114ms/step - loss: 0.0016\n",
            "Epoch 76/100\n",
            "38/38 [==============================] - 4s 115ms/step - loss: 0.0017\n",
            "Epoch 77/100\n",
            "38/38 [==============================] - 4s 115ms/step - loss: 0.0017\n",
            "Epoch 78/100\n",
            "38/38 [==============================] - 4s 115ms/step - loss: 0.0018\n",
            "Epoch 79/100\n",
            "38/38 [==============================] - 4s 115ms/step - loss: 0.0017\n",
            "Epoch 80/100\n",
            "38/38 [==============================] - 4s 113ms/step - loss: 0.0016\n",
            "Epoch 81/100\n",
            "38/38 [==============================] - 4s 114ms/step - loss: 0.0018\n",
            "Epoch 82/100\n",
            "38/38 [==============================] - 4s 112ms/step - loss: 0.0018\n",
            "Epoch 83/100\n",
            "38/38 [==============================] - 4s 116ms/step - loss: 0.0016\n",
            "Epoch 84/100\n",
            "38/38 [==============================] - 4s 115ms/step - loss: 0.0017\n",
            "Epoch 85/100\n",
            "38/38 [==============================] - 4s 115ms/step - loss: 0.0018\n",
            "Epoch 86/100\n",
            "38/38 [==============================] - 4s 113ms/step - loss: 0.0017\n",
            "Epoch 87/100\n",
            "38/38 [==============================] - 4s 114ms/step - loss: 0.0016\n",
            "Epoch 88/100\n",
            "38/38 [==============================] - 4s 114ms/step - loss: 0.0017\n",
            "Epoch 89/100\n",
            "38/38 [==============================] - 4s 111ms/step - loss: 0.0016\n",
            "Epoch 90/100\n",
            "38/38 [==============================] - 4s 115ms/step - loss: 0.0015\n",
            "Epoch 91/100\n",
            "38/38 [==============================] - 4s 112ms/step - loss: 0.0016\n",
            "Epoch 92/100\n",
            "38/38 [==============================] - 4s 114ms/step - loss: 0.0016\n",
            "Epoch 93/100\n",
            "38/38 [==============================] - 4s 113ms/step - loss: 0.0015\n",
            "Epoch 94/100\n",
            "38/38 [==============================] - 4s 115ms/step - loss: 0.0015\n",
            "Epoch 95/100\n",
            "38/38 [==============================] - 4s 117ms/step - loss: 0.0014\n",
            "Epoch 96/100\n",
            "38/38 [==============================] - 5s 119ms/step - loss: 0.0015\n",
            "Epoch 97/100\n",
            "38/38 [==============================] - 4s 115ms/step - loss: 0.0012\n",
            "Epoch 98/100\n",
            "38/38 [==============================] - 4s 115ms/step - loss: 0.0014\n",
            "Epoch 99/100\n",
            "38/38 [==============================] - 4s 116ms/step - loss: 0.0015\n",
            "Epoch 100/100\n",
            "38/38 [==============================] - 4s 116ms/step - loss: 0.0015\n"
          ],
          "name": "stdout"
        },
        {
          "output_type": "execute_result",
          "data": {
            "text/plain": [
              "<keras.callbacks.History at 0x7f14615c6dd0>"
            ]
          },
          "metadata": {
            "tags": []
          },
          "execution_count": 16
        }
      ]
    },
    {
      "cell_type": "code",
      "metadata": {
        "id": "qqQV00k2wd7R"
      },
      "source": [
        "# Part 3 - Making the predictions and visualising the results\n",
        " \n",
        "# Getting the real stock price of 2017\n",
        "dataset_test = pd.read_csv('/content/Google_Stock_Price_Test.csv')\n",
        "real_stock_price = dataset_test.iloc[:, 1:2].values\n",
        " \n"
      ],
      "execution_count": 18,
      "outputs": []
    },
    {
      "cell_type": "code",
      "metadata": {
        "id": "fPk5HE_iw7Eb"
      },
      "source": [
        "# Getting the predicted stock price of 2017\n",
        "dataset_total = pd.concat((dataset_train['Open'], dataset_test['Open']), axis = 0)\n",
        "inputs = dataset_total[len(dataset_total) - len(dataset_test) - 60:].values\n",
        "inputs = inputs.reshape(-1,1)\n",
        "inputs = sc.transform(inputs)\n",
        "X_test = []\n",
        "for i in range(60, 80):\n",
        "    X_test.append(inputs[i-60:i, 0])\n",
        "X_test = np.array(X_test)\n",
        "X_test = np.reshape(X_test, (X_test.shape[0], X_test.shape[1], 1))\n",
        "predicted_stock_price = regressor.predict(X_test)\n",
        "predicted_stock_price = sc.inverse_transform(predicted_stock_price)\n"
      ],
      "execution_count": 19,
      "outputs": []
    },
    {
      "cell_type": "code",
      "metadata": {
        "colab": {
          "base_uri": "https://localhost:8080/",
          "height": 295
        },
        "id": "uQ1UqYTPxChb",
        "outputId": "ab1b66d8-58a7-4f29-8276-e431b43b61bc"
      },
      "source": [
        " \n",
        "# Visualising the results\n",
        "plt.plot(real_stock_price, color = 'red', label = 'Real Google Stock Price')\n",
        "plt.plot(predicted_stock_price, color = 'blue', label = 'Predicted Google Stock Price')\n",
        "plt.title('Google Stock Price Prediction')\n",
        "plt.xlabel('Time')\n",
        "plt.ylabel('Google Stock Price')\n",
        "plt.legend()\n",
        "plt.show()\n"
      ],
      "execution_count": 20,
      "outputs": [
        {
          "output_type": "display_data",
          "data": {
            "image/png": "[encoded data removed]",
            "text/plain": [
              "<Figure size 432x288 with 1 Axes>"
            ]
          },
          "metadata": {
            "tags": [],
            "needs_background": "light"
          }
        }
      ]
    }
  ]
}